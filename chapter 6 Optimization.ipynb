{
 "cells": [
  {
   "cell_type": "code",
   "execution_count": 1,
   "id": "9acc1126-2e9d-49fe-9ea4-feeae21bcd79",
   "metadata": {},
   "outputs": [],
   "source": [
    "# 优化 "
   ]
  },
  {
   "cell_type": "code",
   "execution_count": 1,
   "id": "2d8d28de-a103-4b22-93c9-0ae17c4fdbe0",
   "metadata": {},
   "outputs": [],
   "source": [
    "# 如果使用随机参数变量，那么最重结果的loss会一直下不去，准确率也会比较低"
   ]
  },
  {
   "cell_type": "code",
   "execution_count": 2,
   "id": "d2346651-2b85-4c35-94f4-8e4e96ac6907",
   "metadata": {},
   "outputs": [],
   "source": [
    "# 在随机的基础上，找到最佳的随机值，在此基础上对变量进行一定的增减，效果到一定程度也不会再增加了"
   ]
  },
  {
   "cell_type": "code",
   "execution_count": 3,
   "id": "4a664574-825b-4111-bcfa-be2d6b5e5a54",
   "metadata": {},
   "outputs": [],
   "source": [
    "# 那么有没有一种更好的方法进行损失计算并提高准确率呢"
   ]
  }
 ],
 "metadata": {
  "kernelspec": {
   "display_name": "Python 3 (ipykernel)",
   "language": "python",
   "name": "python3"
  },
  "language_info": {
   "codemirror_mode": {
    "name": "ipython",
    "version": 3
   },
   "file_extension": ".py",
   "mimetype": "text/x-python",
   "name": "python",
   "nbconvert_exporter": "python",
   "pygments_lexer": "ipython3",
   "version": "3.9.20"
  }
 },
 "nbformat": 4,
 "nbformat_minor": 5
}
