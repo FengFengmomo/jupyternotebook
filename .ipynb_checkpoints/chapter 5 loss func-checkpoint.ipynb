{
 "cells": [
  {
   "cell_type": "code",
   "execution_count": 1,
   "id": "a08e9751-248b-4740-a8a7-358c113f04f2",
   "metadata": {},
   "outputs": [],
   "source": [
    "# 损失函数相关"
   ]
  },
  {
   "cell_type": "code",
   "execution_count": 2,
   "id": "78f46591-d949-47f9-b377-829c3b805bce",
   "metadata": {},
   "outputs": [
    {
     "name": "stdout",
     "output_type": "stream",
     "text": [
      "0.38506088005216804\n"
     ]
    }
   ],
   "source": [
    "import numpy as np \n",
    " \n",
    "softmax_outputs = np.array([[0.7, 0.1, 0.2], \n",
    "                            [0.1, 0.5, 0.4], \n",
    "                            [0.02, 0.9, 0.08]]) \n",
    "class_targets = np.array([[1, 0, 0], \n",
    "                          [0, 1, 0], \n",
    "                          [0, 1, 0]]) \n",
    " \n",
    " \n",
    "# Probabilities for target values - \n",
    "# only if categorical labels \n",
    "if len(class_targets.shape) == 1: \n",
    "    correct_confidences = softmax_outputs[ \n",
    "        range(len(softmax_outputs)), \n",
    "        class_targets \n",
    "    ] \n",
    "# Mask values - only for one-hot encoded labels \n",
    "elif len(class_targets.shape) == 2: \n",
    "    correct_confidences = np.sum( \n",
    "        softmax_outputs * class_targets, \n",
    "        axis=1 \n",
    "    ) \n",
    "# Losses \n",
    "neg_log = -np.log(correct_confidences) \n",
    "average_loss = np.mean(neg_log) \n",
    "print(average_loss) "
   ]
  },
  {
   "cell_type": "code",
   "execution_count": 3,
   "id": "04e0da06-b575-4b84-91bf-fd172d5e0109",
   "metadata": {},
   "outputs": [],
   "source": [
    "# 损失计算函数"
   ]
  },
  {
   "cell_type": "code",
   "execution_count": 4,
   "id": "ff5fcf4d-5467-42f8-a96c-0fe6e49af8b9",
   "metadata": {},
   "outputs": [],
   "source": [
    "# Common loss class \n",
    "class Loss: \n",
    " \n",
    "    # Calculates the data and regularization losses \n",
    "    # given model output and ground truth values \n",
    "    def calculate(self, output, y): \n",
    " \n",
    "        # Calculate sample losses \n",
    "        sample_losses = self.forward(output, y) \n",
    " \n",
    "        # Calculate mean loss \n",
    "        data_loss = np.mean(sample_losses) \n",
    " \n",
    "        # Return loss \n",
    "        return data_loss"
   ]
  },
  {
   "cell_type": "code",
   "execution_count": 5,
   "id": "f57a5bba-af14-43a6-92b3-919d28c3512b",
   "metadata": {},
   "outputs": [],
   "source": [
    "# Cross-entropy loss \n",
    "class Loss_CategoricalCrossentropy(Loss): \n",
    " \n",
    "    # Forward pass \n",
    "    def forward(self, y_pred, y_true): \n",
    " \n",
    "        # Number of samples in a batch \n",
    "        samples = len(y_pred) \n",
    " \n",
    "        # Clip data to prevent division by 0 \n",
    "        # Clip both sides to not drag mean towards any value \n",
    "        y_pred_clipped = np.clip(y_pred, 1e-7, 1 - 1e-7) \n",
    " \n",
    "        # Probabilities for target values - \n",
    "        # only if categorical labels \n",
    "        if len(y_true.shape) == 1: \n",
    "            correct_confidences = y_pred_clipped[ \n",
    "                range(samples), \n",
    "                y_true \n",
    "            ] \n",
    " \n",
    "        # Mask values - only for one-hot encoded labels \n",
    "        elif len(y_true.shape) == 2: \n",
    "            correct_confidences = np.sum( \n",
    "                y_pred_clipped * y_true, \n",
    "                axis=1 \n",
    "            ) \n",
    " \n",
    "        # Losses \n",
    "        negative_log_likelihoods = -np.log(correct_confidences) \n",
    "        return negative_log_likelihoods "
   ]
  },
  {
   "cell_type": "code",
   "execution_count": 6,
   "id": "6f848d80-af16-48c3-8759-38d7cee18997",
   "metadata": {},
   "outputs": [
    {
     "name": "stdout",
     "output_type": "stream",
     "text": [
      "0.38506088005216804\n"
     ]
    }
   ],
   "source": [
    "loss_function = Loss_CategoricalCrossentropy() \n",
    "loss = loss_function.calculate(softmax_outputs, class_targets) \n",
    "print(loss) "
   ]
  },
  {
   "cell_type": "code",
   "execution_count": 7,
   "id": "791a60fe-5711-47e7-9230-4f2b2432a1f7",
   "metadata": {},
   "outputs": [],
   "source": [
    "# 将损失函数汇总后的代码"
   ]
  },
  {
   "cell_type": "code",
   "execution_count": 8,
   "id": "6d5b798a-5b62-41c7-a86d-22f555a98ae3",
   "metadata": {},
   "outputs": [],
   "source": [
    "import numpy as np \n",
    "import nnfs \n",
    "from nnfs.datasets import spiral_data \n",
    " \n",
    "nnfs.init() "
   ]
  },
  {
   "cell_type": "code",
   "execution_count": 9,
   "id": "91cd96a4-f841-457d-adfb-6431f4a9019c",
   "metadata": {},
   "outputs": [],
   "source": [
    "# Dense layer \n",
    "class Layer_Dense: \n",
    " \n",
    "    # Layer initialization \n",
    "    def __init__(self, n_inputs, n_neurons): \n",
    "        # Initialize weights and biases \n",
    "        self.weights = 0.01 * np.random.randn(n_inputs, n_neurons) \n",
    "        self.biases = np.zeros((1, n_neurons)) \n",
    " \n",
    "    # Forward pass \n",
    "    def forward(self, inputs): \n",
    "        # Calculate output values from inputs, weights and biases \n",
    "        self.output = np.dot(inputs, self.weights) + self.biases \n",
    " \n",
    " \n",
    "# ReLU activation \n",
    "class Activation_ReLU: \n",
    " \n",
    "    # Forward pass \n",
    "    def forward(self, inputs): \n",
    "        # Calculate output values from inputs \n",
    "        self.output = np.maximum(0, inputs) "
   ]
  },
  {
   "cell_type": "code",
   "execution_count": 10,
   "id": "fb889c5b-7588-4d25-91b8-d72285ec5d8c",
   "metadata": {},
   "outputs": [],
   "source": [
    "# Softmax activation \n",
    "class Activation_Softmax: \n",
    " \n",
    "    # Forward pass \n",
    "    def forward(self, inputs): \n",
    " \n",
    "        # Get unnormalized probabilities \n",
    "        exp_values = np.exp(inputs - np.max(inputs, axis=1, \n",
    "                                            keepdims=True)) \n",
    "        # Normalize them for each sample \n",
    "        probabilities = exp_values / np.sum(exp_values, axis=1, \n",
    "                                            keepdims=True) \n",
    " \n",
    "        self.output = probabilities \n",
    " \n",
    " \n",
    "# Common loss class \n",
    "class Loss: \n",
    " \n",
    "    # Calculates the data and regularization losses \n",
    "    # given model output and ground truth values \n",
    "    def calculate(self, output, y): \n",
    " \n",
    "        # Calculate sample losses \n",
    "        sample_losses = self.forward(output, y) \n",
    " \n",
    "        # Calculate mean loss \n",
    "        data_loss = np.mean(sample_losses) \n",
    " \n",
    "        # Return loss \n",
    "        return data_loss "
   ]
  },
  {
   "cell_type": "code",
   "execution_count": 11,
   "id": "b9b393ea-07fb-44ef-9f9c-9a44db722872",
   "metadata": {},
   "outputs": [],
   "source": [
    "# Cross-entropy loss \n",
    "class Loss_CategoricalCrossentropy(Loss): \n",
    " \n",
    "    # Forward pass \n",
    "    def forward(self, y_pred, y_true): \n",
    " \n",
    "        # Number of samples in a batch \n",
    "        samples = len(y_pred) \n",
    " \n",
    "        # Clip data to prevent division by 0 \n",
    "        # Clip both sides to not drag mean towards any value \n",
    "        y_pred_clipped = np.clip(y_pred, 1e-7, 1 - 1e-7) \n",
    "         # Probabilities for target values - \n",
    "        # only if categorical labels \n",
    "        if len(y_true.shape) == 1: \n",
    "            correct_confidences = y_pred_clipped[ \n",
    "                range(samples), \n",
    "                y_true \n",
    "            ] \n",
    " \n",
    "        # Mask values - only for one-hot encoded labels \n",
    "        elif len(y_true.shape) == 2: \n",
    "            correct_confidences = np.sum( \n",
    "                y_pred_clipped * y_true, \n",
    "                axis=1 \n",
    "            ) \n",
    " \n",
    "        # Losses \n",
    "        negative_log_likelihoods = -np.log(correct_confidences) \n",
    "        return negative_log_likelihoods "
   ]
  },
  {
   "cell_type": "code",
   "execution_count": 12,
   "id": "9ca9e711-d06e-4167-b10d-c16a77a6d7b9",
   "metadata": {},
   "outputs": [
    {
     "name": "stdout",
     "output_type": "stream",
     "text": [
      "[[0.33333334 0.33333334 0.33333334]\n",
      " [0.3333332  0.3333332  0.33333364]\n",
      " [0.3333329  0.33333293 0.3333342 ]\n",
      " [0.3333326  0.33333263 0.33333477]\n",
      " [0.33333233 0.3333324  0.33333528]]\n",
      "loss: 1.0986104\n"
     ]
    }
   ],
   "source": [
    "# Create dataset \n",
    "X, y = spiral_data(samples=100, classes=3) \n",
    " \n",
    "# Create Dense layer with 2 input features and 3 output values \n",
    "dense1 = Layer_Dense(2, 3) \n",
    " \n",
    "# Create ReLU activation (to be used with Dense layer): \n",
    "activation1 = Activation_ReLU() \n",
    " \n",
    "# Create second Dense layer with 3 input features (as we take output \n",
    "# of previous layer here) and 3 output values \n",
    "dense2 = Layer_Dense(3, 3) \n",
    " \n",
    "# Create Softmax activation (to be used with Dense layer): \n",
    "activation2 = Activation_Softmax() \n",
    " \n",
    "# Create loss function \n",
    "loss_function = Loss_CategoricalCrossentropy() \n",
    " \n",
    "# Perform a forward pass of our training data through this layer \n",
    "dense1.forward(X) \n",
    " \n",
    "# Perform a forward pass through activation function \n",
    "# it takes the output of first dense layer here \n",
    "activation1.forward(dense1.output)\n",
    "# Perform a forward pass through second Dense layer \n",
    "# it takes outputs of activation function of first layer as inputs \n",
    "dense2.forward(activation1.output) \n",
    "# Perform a forward pass through activation function \n",
    "# it takes the output of second dense layer here \n",
    "activation2.forward(dense2.output) \n",
    "# Let's see output of the first few samples: \n",
    "print(activation2.output[:5]) \n",
    "# Perform a forward pass through loss function \n",
    "# it takes the output of second dense layer here and returns loss \n",
    "loss = loss_function.calculate(activation2.output, y) \n",
    "# Print loss value \n",
    "print('loss:', loss) "
   ]
  },
  {
   "cell_type": "code",
   "execution_count": 13,
   "id": "f1b4abfc-e1c4-403a-99e0-fd44a07e9b57",
   "metadata": {},
   "outputs": [],
   "source": [
    "# acc 计算"
   ]
  },
  {
   "cell_type": "code",
   "execution_count": 14,
   "id": "c4800b04-1da6-4380-bf5b-2139ed2f1575",
   "metadata": {},
   "outputs": [
    {
     "name": "stdout",
     "output_type": "stream",
     "text": [
      "acc: 0.6666666666666666\n"
     ]
    }
   ],
   "source": [
    "import numpy as np \n",
    " \n",
    "# Probabilities of 3 samples \n",
    "softmax_outputs = np.array([[0.7, 0.2, 0.1], \n",
    "                            [0.5, 0.1, 0.4], \n",
    "                            [0.02, 0.9, 0.08]]) \n",
    "# Target (ground-truth) labels for 3 samples \n",
    "class_targets = np.array([0, 1, 1]) \n",
    " \n",
    "# Calculate values along second axis (axis of index 1) \n",
    "predictions = np.argmax(softmax_outputs, axis=1) \n",
    "# If targets are one-hot encoded - convert them \n",
    "if len(class_targets.shape) == 2: \n",
    "    class_targets = np.argmax(class_targets, axis=1) \n",
    "# True evaluates to 1; False to 0 \n",
    "accuracy = np.mean(predictions==class_targets) \n",
    " \n",
    " \n",
    "print('acc:', accuracy) "
   ]
  },
  {
   "cell_type": "code",
   "execution_count": 15,
   "id": "540ae4da-4ddd-4113-ad41-f225d9bac965",
   "metadata": {},
   "outputs": [
    {
     "name": "stdout",
     "output_type": "stream",
     "text": [
      "[0 0 1]\n"
     ]
    }
   ],
   "source": [
    "print(predictions)"
   ]
  },
  {
   "cell_type": "code",
   "execution_count": 17,
   "id": "8015587a-8578-421d-bc81-529a01805d01",
   "metadata": {},
   "outputs": [
    {
     "name": "stdout",
     "output_type": "stream",
     "text": [
      "acc: 0.34\n"
     ]
    }
   ],
   "source": [
    "# Calculate accuracy from output of activation2 and targets \n",
    "# calculate values along first axis \n",
    "predictions = np.argmax(activation2.output, axis=1) \n",
    "if len(y.shape) == 2: \n",
    "   y = np.argmax(y, axis=1) \n",
    "accuracy = np.mean(predictions==y) \n",
    "# Print accuracy \n",
    "print('acc:', accuracy) "
   ]
  },
  {
   "cell_type": "code",
   "execution_count": null,
   "id": "7f64ce96-19d4-4cc2-94e1-e9791bcaa58d",
   "metadata": {},
   "outputs": [],
   "source": []
  }
 ],
 "metadata": {
  "kernelspec": {
   "display_name": "Python 3 (ipykernel)",
   "language": "python",
   "name": "python3"
  },
  "language_info": {
   "codemirror_mode": {
    "name": "ipython",
    "version": 3
   },
   "file_extension": ".py",
   "mimetype": "text/x-python",
   "name": "python",
   "nbconvert_exporter": "python",
   "pygments_lexer": "ipython3",
   "version": "3.9.20"
  }
 },
 "nbformat": 4,
 "nbformat_minor": 5
}
