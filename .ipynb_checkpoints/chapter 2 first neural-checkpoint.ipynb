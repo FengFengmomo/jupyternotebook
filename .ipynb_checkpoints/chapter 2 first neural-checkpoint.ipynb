{
 "cells": [
  {
   "cell_type": "code",
   "execution_count": 1,
   "id": "707dfe18",
   "metadata": {},
   "outputs": [],
   "source": [
    "inputs = [1, 2, 3] \n",
    "weights = [0.2, 0.8, -0.5] \n",
    "bias = 2\n"
   ]
  },
  {
   "cell_type": "code",
   "execution_count": 3,
   "id": "3efa3c6a",
   "metadata": {},
   "outputs": [],
   "source": [
    "output = (inputs[0]*weights[0] + \n",
    "inputs[1]*weights[1] + \n",
    "inputs[2]*weights[2] + bias) \n"
   ]
  },
  {
   "cell_type": "code",
   "execution_count": 4,
   "id": "ef7089d3",
   "metadata": {},
   "outputs": [
    {
     "name": "stdout",
     "output_type": "stream",
     "text": [
      "2.3\n"
     ]
    }
   ],
   "source": [
    "print(output)"
   ]
  },
  {
   "cell_type": "code",
   "execution_count": 5,
   "id": "b6659186",
   "metadata": {},
   "outputs": [],
   "source": [
    "inputs = [1.0, 2.0, 3.0, 2.5] \n",
    "weights = [0.2, 0.8, -0.5, 1.0] \n",
    "bias = 2.0 "
   ]
  },
  {
   "cell_type": "code",
   "execution_count": 8,
   "id": "c8f63f88",
   "metadata": {},
   "outputs": [],
   "source": [
    "output = (inputs[0]*weights[0] + \n",
    "inputs[1]*weights[1] + \n",
    "inputs[2]*weights[2] + \n",
    "inputs[3]*weights[3] + bias)"
   ]
  },
  {
   "cell_type": "code",
   "execution_count": 9,
   "id": "f11a7172",
   "metadata": {},
   "outputs": [
    {
     "name": "stdout",
     "output_type": "stream",
     "text": [
      "4.8\n"
     ]
    }
   ],
   "source": [
    "print(output)"
   ]
  },
  {
   "cell_type": "code",
   "execution_count": 10,
   "id": "740acf63",
   "metadata": {},
   "outputs": [],
   "source": [
    "inputs = [1, 2, 3, 2.5] \n",
    " \n",
    "weights1 = [0.2, 0.8, -0.5, 1] \n",
    "weights2 = [0.5, -0.91, 0.26, -0.5] \n",
    "weights3 = [-0.26, -0.27, 0.17, 0.87] \n",
    "bias1 = 2 \n",
    "bias2 = 3 \n",
    "bias3 = 0.5 "
   ]
  },
  {
   "cell_type": "code",
   "execution_count": 11,
   "id": "e236e6de",
   "metadata": {},
   "outputs": [
    {
     "name": "stdout",
     "output_type": "stream",
     "text": [
      "[4.8, 1.21, 2.385]\n"
     ]
    }
   ],
   "source": [
    "outputs = [ \n",
    "        # Neuron 1: \n",
    "        inputs[0]*weights1[0] + \n",
    "        inputs[1]*weights1[1] + \n",
    "        inputs[2]*weights1[2] + \n",
    "        inputs[3]*weights1[3] + bias1, \n",
    " \n",
    "        # Neuron 2: \n",
    "        inputs[0]*weights2[0] + \n",
    "        inputs[1]*weights2[1] + \n",
    "        inputs[2]*weights2[2] + \n",
    "        inputs[3]*weights2[3] + bias2, \n",
    " \n",
    "        # Neuron 3: \n",
    "        inputs[0]*weights3[0] + \n",
    "        inputs[1]*weights3[1] + \n",
    "        inputs[2]*weights3[2] + \n",
    "        inputs[3]*weights3[3] + bias3] \n",
    " \n",
    "print(outputs) "
   ]
  },
  {
   "cell_type": "code",
   "execution_count": 13,
   "id": "1530f590",
   "metadata": {},
   "outputs": [],
   "source": [
    "#使用循环代码的方式进行执行"
   ]
  },
  {
   "cell_type": "code",
   "execution_count": 14,
   "id": "1f611e9a",
   "metadata": {},
   "outputs": [
    {
     "name": "stdout",
     "output_type": "stream",
     "text": [
      "[4.8, 1.21, 2.385]\n"
     ]
    }
   ],
   "source": [
    "inputs = [1, 2, 3, 2.5] \n",
    "weights = [[0.2, 0.8, -0.5, 1], \n",
    "           [0.5, -0.91, 0.26, -0.5], \n",
    "           [-0.26, -0.27, 0.17, 0.87]] \n",
    "biases = [2, 3, 0.5] \n",
    " \n",
    "# Output of current layer \n",
    "layer_outputs = [] \n",
    "# For each neuron \n",
    "for neuron_weights, neuron_bias in zip(weights, biases): \n",
    "    # Zeroed output of given neuron \n",
    "    neuron_output = 0 \n",
    "    # For each input and weight to the neuron \n",
    "    for n_input, weight in zip(inputs, neuron_weights): \n",
    "        # Multiply this input by associated weight \n",
    "        # and add to the neuron’s output variable \n",
    "        neuron_output += n_input*weight \n",
    "    # Add bias \n",
    "    neuron_output += neuron_bias \n",
    "    # Put neuron’s result to the layer’s output list \n",
    "    layer_outputs.append(neuron_output) \n",
    " \n",
    "print(layer_outputs)"
   ]
  },
  {
   "cell_type": "code",
   "execution_count": 15,
   "id": "754aef7c",
   "metadata": {},
   "outputs": [],
   "source": [
    "# use tensor and array"
   ]
  },
  {
   "cell_type": "code",
   "execution_count": 1,
   "id": "d0531c66",
   "metadata": {},
   "outputs": [
    {
     "name": "stdout",
     "output_type": "stream",
     "text": [
      "4.8\n"
     ]
    }
   ],
   "source": [
    "import numpy as np \n",
    "inputs = [1.0, 2.0, 3.0, 2.5] \n",
    "weights = [0.2, 0.8, -0.5, 1.0] \n",
    "bias = 2.0 \n",
    "outputs = np.dot(weights, inputs) + bias \n",
    "print(outputs) "
   ]
  },
  {
   "cell_type": "code",
   "execution_count": 2,
   "id": "2c5556da",
   "metadata": {},
   "outputs": [],
   "source": [
    "# use tensor and array for a layer of neurons"
   ]
  },
  {
   "cell_type": "code",
   "execution_count": 3,
   "id": "2237138c",
   "metadata": {},
   "outputs": [
    {
     "name": "stdout",
     "output_type": "stream",
     "text": [
      "[4.8   1.21  2.385]\n"
     ]
    }
   ],
   "source": [
    "import numpy as np \n",
    "inputs = [1.0, 2.0, 3.0, 2.5] \n",
    "weights = [[0.2, 0.8, -0.5, 1], \n",
    "[0.5, -0.91, 0.26, -0.5], \n",
    "[-0.26, -0.27, 0.17, 0.87]] \n",
    "biases = [2.0, 3.0, 0.5] \n",
    "layer_outputs = np.dot(weights, inputs) + biases \n",
    "print(layer_outputs)"
   ]
  },
  {
   "cell_type": "code",
   "execution_count": 4,
   "id": "8733ede5",
   "metadata": {},
   "outputs": [],
   "source": [
    "# 输出的是一个三个节点的neural"
   ]
  },
  {
   "cell_type": "code",
   "execution_count": 5,
   "id": "77e31572",
   "metadata": {},
   "outputs": [],
   "source": [
    "# a layer of neurons & batch of Data W/Numpy"
   ]
  },
  {
   "cell_type": "code",
   "execution_count": 6,
   "id": "faf886ea",
   "metadata": {},
   "outputs": [
    {
     "name": "stdout",
     "output_type": "stream",
     "text": [
      "[[ 4.8    1.21   2.385]\n",
      " [ 8.9   -1.81   0.2  ]\n",
      " [ 1.41   1.051  0.026]]\n",
      "[[ 2.8   -1.79   1.885]\n",
      " [ 6.9   -4.81  -0.3  ]\n",
      " [-0.59  -1.949 -0.474]]\n"
     ]
    }
   ],
   "source": [
    "inputs = [\n",
    "    [1.0,2.0,3.0,2.5],\n",
    "    [2.0,5.0,-1.0,2.0],\n",
    "    [-1.5,2.7,3.3,-0.8]\n",
    "]\n",
    "weights = [\n",
    "    [0.2,0.8,-0.5, 1.0],\n",
    "    [0.5,-0.91,0.26,-0.5],\n",
    "    [-0.26,-0.27,0.17,0.87]\n",
    "]\n",
    "biases = [2.0,3.0,0.5]\n",
    "outputs = np.dot(inputs, np.array(weights).T)+biases\n",
    "before_add = np.dot(inputs, np.array(weights).T)\n",
    "print(outputs)\n",
    "print(before_add)"
   ]
  },
  {
   "cell_type": "code",
   "execution_count": null,
   "id": "c8b89f1f",
   "metadata": {},
   "outputs": [],
   "source": [
    "# 结论 \n",
    "# 从python的list 简单操作到for循环操作\n",
    "#再到使用numpy进行操作，实现的向量与向量，向量和矩阵之间的操作，再到矩阵和矩阵之间的操作。\n",
    "# 注：张量（Tensor）不是数组，但是在代码以数组进行表示，程序员看到的其实就是数组表示的张量"
   ]
  }
 ],
 "metadata": {
  "kernelspec": {
   "display_name": "Python 3 (ipykernel)",
   "language": "python",
   "name": "python3"
  },
  "language_info": {
   "codemirror_mode": {
    "name": "ipython",
    "version": 3
   },
   "file_extension": ".py",
   "mimetype": "text/x-python",
   "name": "python",
   "nbconvert_exporter": "python",
   "pygments_lexer": "ipython3",
   "version": "3.11.4"
  }
 },
 "nbformat": 4,
 "nbformat_minor": 5
}
